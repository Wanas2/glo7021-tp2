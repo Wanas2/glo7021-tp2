{
 "cells": [
  {
   "cell_type": "code",
   "execution_count": 61,
   "metadata": {},
   "outputs": [],
   "source": [
    "import numpy as np\n",
    "import scipy.io as sc\n",
    "import matplotlib.pyplot as plt\n",
    "\n",
    "from shapely.geometry import Polygon, LineString, Point\n",
    "\n",
    "from IPython.display import clear_output\n",
    "import time \n",
    "\n",
    "from particle_resampling import *"
   ]
  },
  {
   "cell_type": "code",
   "execution_count": 62,
   "metadata": {},
   "outputs": [],
   "source": [
    "plt.rcParams[\"figure.figsize\"] = (30, 10)"
   ]
  },
  {
   "cell_type": "code",
   "execution_count": 63,
   "metadata": {},
   "outputs": [],
   "source": [
    "def plotCarte(m):\n",
    "    plt.plot(m[0,:],m[1,:],'b-')\n",
    "    plt.xlabel('Coordonnées en x (m)')\n",
    "    plt.ylabel('Coordonnées en y (m)')\n",
    "\n",
    "def gauss(x, s):\n",
    "    return np.exp(-(x**2)/(2*s**2))/np.sqrt(2*np.pi*s**2)\n",
    "\n",
    "def euclidian_distance(x1,y1,x2,y2):\n",
    "    return np.sqrt((x1-x2)**2 + (y1-y2)**2)\n",
    "\n",
    "def wrap2pi(theta):\n",
    "    return np.arctan2(np.sin(theta), np.cos(theta))"
   ]
  },
  {
   "cell_type": "code",
   "execution_count": 64,
   "metadata": {},
   "outputs": [],
   "source": [
    "NumeroDeQuestion=1"
   ]
  },
  {
   "cell_type": "code",
   "execution_count": 65,
   "metadata": {},
   "outputs": [],
   "source": [
    "# Carte du monde, connue du robot, modélisée par des segments de droite.\n",
    "matlab_data = sc.loadmat('Carte.mat')\n",
    "carte = matlab_data[\"Carte\"]"
   ]
  },
  {
   "cell_type": "code",
   "execution_count": 66,
   "metadata": {},
   "outputs": [],
   "source": [
    "pCarte = Polygon([carte[:, i] for i in range(np.size(carte, 1))]) "
   ]
  },
  {
   "cell_type": "code",
   "execution_count": 67,
   "metadata": {},
   "outputs": [],
   "source": [
    "if (NumeroDeQuestion == 1):\n",
    "    matlab_data = sc.loadmat('Q1Trajectoire.mat')\n",
    "elif (NumeroDeQuestion == 2):\n",
    "    matlab_data = sc.loadmat('Q2Trajectoire.mat')"
   ]
  },
  {
   "cell_type": "code",
   "execution_count": 68,
   "metadata": {},
   "outputs": [],
   "source": [
    "# On récupère les variables de matlab\n",
    "xPose = np.reshape(matlab_data[\"xPose\"],-1)\n",
    "yPose = np.reshape(matlab_data[\"yPose\"],-1)\n",
    "omega = np.reshape(matlab_data[\"omega\"],-1)\n",
    "dT    = matlab_data[\"dT\"]\n",
    "V     = np.reshape(matlab_data[\"V\"],-1)\n",
    "Lidar = matlab_data[\"Lidar\"]\n",
    "anglePose = np.reshape(matlab_data[\"anglePose\"],-1)\n",
    "Compas    = np.reshape(matlab_data[\"Compas\"],-1)\n",
    "\n",
    "AngleLiDAR = np.array([0.0, 0.5*np.pi, np.pi, 1.5*np.pi])\n",
    "nStep = np.size(V)        # Nombre de pas dans la simulation"
   ]
  },
  {
   "cell_type": "code",
   "execution_count": 69,
   "metadata": {},
   "outputs": [],
   "source": [
    "# Paramètres du filtre. À vous de les ajuster !\n",
    "nParticules = 1000\n",
    "Somega  = 0.04\n",
    "SV      = 0.1\n",
    "Scompas = 0.6\n",
    "SLiDAR = 0.5\n",
    "\n",
    "RatioResampling = 0.4"
   ]
  },
  {
   "cell_type": "code",
   "execution_count": 73,
   "metadata": {},
   "outputs": [],
   "source": [
    "AX0 = np.zeros(nStep)\n",
    "AX1 = np.zeros(nStep)\n",
    "AX2 = np.zeros(nStep)\n",
    "ATime = np.zeros(nStep)\n"
   ]
  },
  {
   "cell_type": "code",
   "execution_count": 74,
   "metadata": {},
   "outputs": [],
   "source": [
    "LIDAR_RANGE = 20\n",
    "def mesure(X):\n",
    "    res = []\n",
    "\n",
    "    for iSensor in range(0, np.size(Lidar, 0)):\n",
    "        AngleLiDARGlobal = wrap2pi(X[2] + AngleLiDAR[iSensor])\n",
    "        l = LineString([(X[0], X[1]), (X[0]+LIDAR_RANGE*np.cos(AngleLiDARGlobal), X[1]+LIDAR_RANGE*np.sin(AngleLiDARGlobal))])\n",
    "\n",
    "        inter = l.intersection(pCarte.buffer(0))\n",
    "        if not inter.is_empty:\n",
    "            if inter.geom_type == 'MultiLineString':\n",
    "                dist = []\n",
    "                for line in inter.geoms:\n",
    "                    dist += [euclidian_distance(X[0], X[1], p[0], p[1]) \n",
    "                             for p in line.coords \n",
    "                             if Point(X[0], X[1]) != Point(p[0], p[1])]\n",
    "            else:\n",
    "                dist = [euclidian_distance(X[0], X[1], p[0], p[1]) \n",
    "                        for p in inter.coords \n",
    "                        if Point(X[0], X[1]) != Point(p[0], p[1])]\n",
    "            zhat = min(dist)\n",
    "        else:\n",
    "            zhat = LIDAR_RANGE\n",
    "        res.append(zhat)\n",
    "    return res\n",
    "    "
   ]
  },
  {
   "cell_type": "code",
   "execution_count": null,
   "metadata": {},
   "outputs": [],
   "source": [
    "nMeans = 10\n",
    "AMeans = np.zeros(nMeans)\n",
    "\n",
    "for iMean in range(nMeans):\n",
    "    SLiDAR = (1+iMean)*0.1\n",
    "\n",
    "    # Initialiser les particules au hasard\n",
    "    X = np.zeros((3,nParticules))\n",
    "    X[0,:] = 19*np.random.rand(nParticules) # position en x\n",
    "    X[1,:] = 7*np.random.rand(nParticules)  # position en y\n",
    "    X[2,:] = 2.0*np.pi*np.random.rand(nParticules) # orientation\n",
    "    w = np.ones(nParticules) # Poids égaux pour les particules\n",
    "\n",
    "    plotCarte(carte)\n",
    "\n",
    "    plt.scatter(X[0,:],X[1,:],marker='o',color='k',s=7)\n",
    "    for iParticule in range(0, np.size(X,1)):\n",
    "        for iSensor in range(0, np.size(AngleLiDAR)):\n",
    "            AngleLiDARGlobal = wrap2pi(X[2, iParticule] + AngleLiDAR[iSensor])\n",
    "            # plt.plot(X[0, iParticule]+[0, np.cos(AngleLiDARGlobal)*Lidar[iSensor,0]],\n",
    "            #          X[1, iParticule]+[0, np.sin(AngleLiDARGlobal)*Lidar[iSensor,0]],'r')\n",
    "\n",
    "    plt.axis('equal')\n",
    "    plt.show()\n",
    "\n",
    "    # ============== Boucle du filtre a particules =================\n",
    "    for iStep in range(0, nStep):\n",
    "\n",
    "        # ================ Début du filtre a particules =============\n",
    "        for iParticule in range(0,np.size(X,1)):\n",
    "            # Prédiction\n",
    "            X[2, iParticule] = wrap2pi(Compas[iStep] + Scompas*np.random.randn())\n",
    "            Vused = V[iStep] + SV*np.random.randn()\n",
    "            X[0, iParticule] = X[0, iParticule] + Vused*np.cos(X[2, iParticule])*dT\n",
    "            X[1, iParticule] = X[1, iParticule] + Vused*np.sin(X[2, iParticule])*dT\n",
    "\n",
    "            zhat = mesure(X[:, iParticule])\n",
    "            \n",
    "            # Mise-à-jour\n",
    "            for iSensor in range(0, np.size(Lidar, 0)):\n",
    "                wnew = gauss(zhat[iSensor]-Lidar[iSensor,iStep], SLiDAR)\n",
    "                w[iParticule] = w[iParticule]*wnew\n",
    "\n",
    "            X, w = particle_resampling(X, w, RatioResampling)   # Ré-échantillonnage\n",
    "\n",
    "        # ================ Fin du filtre a particules =============\n",
    "\n",
    "        AX0[iStep]      = sum(X[0,:]*w)\n",
    "        AX1[iStep]      = sum(X[1,:]*w)\n",
    "        AX2[iStep]      = sum(X[2,:]*w)\n",
    "        ATime[iStep]    = iStep*dT\n",
    "\n",
    "\n",
    "        clear_output(wait=True)\n",
    "\n",
    "        print(\"iStep\", iStep)\n",
    "        \n",
    "        plotCarte(carte)\n",
    "        \n",
    "        plt.scatter(X[0,:],X[1,:],marker='o',color='k',s=7, label=\"Position estimée\")\n",
    "\n",
    "        for iSensor in range(0, np.size(AngleLiDAR)):\n",
    "            AngleLiDARReel = wrap2pi(anglePose[iStep] + AngleLiDAR[iSensor])\n",
    "            plt.plot(xPose[iStep]+[0, np.cos(AngleLiDARReel)*Lidar[iSensor, iStep]],\n",
    "                    yPose[iStep]+[0, np.sin(AngleLiDARReel)*Lidar[iSensor, iStep]], 'g')\n",
    "        \n",
    "            AngleLiDARGlobal = wrap2pi(AX2[iStep] + AngleLiDAR[iSensor])\n",
    "            plt.plot(AX0[iStep]+[0, np.cos(AngleLiDARGlobal)*Lidar[iSensor, iStep]],\n",
    "                    AX1[iStep]+[0, np.sin(AngleLiDARGlobal)*Lidar[iSensor, iStep]],'r')\n",
    "\n",
    "        plt.xlabel(\"Temps(s)\")\n",
    "        plt.ylabel(\"Estimé de la position (m)\")\n",
    "\n",
    "        plt.legend()\n",
    "\n",
    "        plt.show()\n",
    "    \n",
    "    AMeans[iMean] = np.mean(np.abs(xPose[:nStep]-AX0))\n",
    "\n",
    "plt.plot(0.1*np.array(range(1, nMeans+1)), AMeans)\n",
    "\n",
    "plt.xlabel(\"SLiDAR(m)\")\n",
    "plt.ylabel(\"Erreur moyenne\")\n",
    "\n",
    "plt.show()\n"
   ]
  }
 ],
 "metadata": {
  "interpreter": {
   "hash": "6591d35b76ab97e93406cb5781dab5e47afa94dc95163fbd3bb09bb5745da70e"
  },
  "kernelspec": {
   "display_name": "Python 3.10.2 64-bit",
   "language": "python",
   "name": "python3"
  },
  "language_info": {
   "codemirror_mode": {
    "name": "ipython",
    "version": 3
   },
   "file_extension": ".py",
   "mimetype": "text/x-python",
   "name": "python",
   "nbconvert_exporter": "python",
   "pygments_lexer": "ipython3",
   "version": "3.10.2"
  },
  "orig_nbformat": 4
 },
 "nbformat": 4,
 "nbformat_minor": 2
}
